{
 "cells": [
  {
   "cell_type": "code",
   "execution_count": 13,
   "id": "bec63700",
   "metadata": {},
   "outputs": [],
   "source": [
    "import numpy as np\n",
    "import pandas as pd\n",
    "import matplotlib.pyplot as plt\n",
    "from matplotlib.animation import FuncAnimation\n",
    "from mpl_toolkits.mplot3d import Axes3D\n",
    "from matplotlib.widgets import Slider\n",
    "from IPython.display import display\n",
    "import glob\n",
    "from sklearn.decomposition import PCA\n",
    "import seaborn as sns\n",
    "from sklearn.preprocessing import StandardScaler\n",
    "from sklearn.linear_model import LogisticRegression\n",
    "from sklearn.model_selection import train_test_split\n",
    "from sklearn.metrics import classification_report, confusion_matrix\n",
    "from sklearn.preprocessing import LabelEncoder\n",
    "from sklearn.pipeline import Pipeline"
   ]
  },
  {
   "cell_type": "code",
   "execution_count": 15,
   "id": "36f77f3b",
   "metadata": {},
   "outputs": [
    {
     "name": "stdout",
     "output_type": "stream",
     "text": [
      "(900, 10, 18000, 4)\n",
      "(900, 540000)\n",
      "[0.30516536 0.2456048  0.09653941 0.04462171 0.02640237 0.01987551\n",
      " 0.01842039 0.01475463 0.01414272 0.01354737 0.0124781  0.01121955\n",
      " 0.01086073 0.00971639 0.00848699 0.00800505 0.00715335 0.00680103\n",
      " 0.00578201 0.00484285 0.00412508 0.00342057 0.00253416 0.00245202\n",
      " 0.00238894 0.00235305 0.0023391  0.00232305 0.00231017 0.0022946\n",
      " 0.0022599  0.00222634 0.00221541 0.00210907 0.00210121 0.00203296\n",
      " 0.00201278 0.00197192 0.00189014 0.00183691 0.0017997  0.00175722\n",
      " 0.00171487 0.00169146 0.00167237 0.00162767 0.00160665 0.00158726\n",
      " 0.001535   0.0014912 ]\n",
      "(900, 50)\n"
     ]
    }
   ],
   "source": [
    "# PCA over all the frames - flattened\n",
    "\n",
    "# importing all the data, getting all the frames\n",
    "\n",
    "TRAINING_DATA_PATH = \"../data/training_data/\"\n",
    "files = sorted(glob.glob(TRAINING_DATA_PATH + \"mixed_samples/*.npy\"))\n",
    "\n",
    "heart_samples = []\n",
    "\n",
    "for f in files:\n",
    "    data = np.load(f)\n",
    "    heart_samples.append(data)\n",
    "heart_samples = np.array(heart_samples)\n",
    " \n",
    "print(heart_samples.shape)\n",
    "\n",
    "heart_xyz = heart_samples[..., :3]\n",
    "X = heart_xyz.reshape(len(heart_xyz), -1)\n",
    "print(X.shape)\n",
    "\n",
    "# Importing demographic data\n",
    "demographics = pd.read_csv(TRAINING_DATA_PATH + \"mixed_demographics.csv\")\n",
    "\n",
    "# Doing PCA\n",
    "pca = PCA(n_components = 50)\n",
    "X_pca = pca.fit_transform(X)\n",
    "print(pca.explained_variance_ratio_)\n",
    "print(X_pca.shape)"
   ]
  },
  {
   "cell_type": "code",
   "execution_count": 29,
   "id": "b444f865",
   "metadata": {},
   "outputs": [],
   "source": [
    "# plots for PCA - simular to Cayla's done\n"
   ]
  },
  {
   "cell_type": "code",
   "execution_count": 38,
   "id": "529fedd6",
   "metadata": {},
   "outputs": [
    {
     "name": "stdout",
     "output_type": "stream",
     "text": [
      "              precision    recall  f1-score   support\n",
      "\n",
      "     healthy       0.52      0.60      0.56        90\n",
      "         pMI       0.53      0.44      0.48        90\n",
      "\n",
      "    accuracy                           0.52       180\n",
      "   macro avg       0.52      0.52      0.52       180\n",
      "weighted avg       0.52      0.52      0.52       180\n",
      "\n"
     ]
    }
   ],
   "source": [
    "# linear regression on point cloud data\n",
    "y = demographics[\"MI\"]\n",
    "\n",
    "X_train, X_test, y_train, y_test = train_test_split(X_pca[:, :3], y, test_size=0.2, random_state=42, stratify=y)\n",
    "\n",
    "scaler = StandardScaler()\n",
    "X_train_std = scaler.fit_transform(X_train)  # fit on train only\n",
    "X_test_std  = scaler.transform(X_test)       # transform test with same params\n",
    "\n",
    "std_logreg = Pipeline([\n",
    "    (\"scaler\", StandardScaler()),\n",
    "    (\"clf\", LogisticRegression(max_iter=1000))\n",
    "])\n",
    "std_logreg.fit(X_train, y_train)\n",
    "\n",
    "# Evaluate\n",
    "y_pred = std_logreg.predict(X_test)\n",
    "\n",
    "print(classification_report(y_test, y_pred))\n"
   ]
  },
  {
   "cell_type": "code",
   "execution_count": null,
   "id": "1becce0f",
   "metadata": {},
   "outputs": [],
   "source": [
    "# K-means clusting to try and figure out hearts that aren't anatompically possible\n"
   ]
  }
 ],
 "metadata": {
  "kernelspec": {
   "display_name": "myocardinal_env",
   "language": "python",
   "name": "python3"
  },
  "language_info": {
   "codemirror_mode": {
    "name": "ipython",
    "version": 3
   },
   "file_extension": ".py",
   "mimetype": "text/x-python",
   "name": "python",
   "nbconvert_exporter": "python",
   "pygments_lexer": "ipython3",
   "version": "3.11.13"
  }
 },
 "nbformat": 4,
 "nbformat_minor": 5
}
