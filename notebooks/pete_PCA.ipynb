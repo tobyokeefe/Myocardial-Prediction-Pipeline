{
 "cells": [
  {
   "cell_type": "code",
   "execution_count": 7,
   "id": "bec63700",
   "metadata": {},
   "outputs": [],
   "source": [
    "import numpy as np\n",
    "import pandas as pd\n",
    "import matplotlib.pyplot as plt\n",
    "from matplotlib.animation import FuncAnimation\n",
    "from mpl_toolkits.mplot3d import Axes3D\n",
    "from matplotlib.widgets import Slider\n",
    "from IPython.display import display\n",
    "import glob\n",
    "from sklearn.decomposition import PCA\n",
    "import seaborn as sns\n",
    "from sklearn.preprocessing import StandardScaler\n",
    "from sklearn.linear_model import LogisticRegression\n",
    "from sklearn.model_selection import train_test_split\n",
    "from sklearn.metrics import classification_report, confusion_matrix\n",
    "from sklearn.preprocessing import LabelEncoder"
   ]
  },
  {
   "cell_type": "code",
   "execution_count": 8,
   "id": "36f77f3b",
   "metadata": {},
   "outputs": [
    {
     "name": "stdout",
     "output_type": "stream",
     "text": [
      "(900, 10, 18000, 4)\n",
      "(900, 540000)\n",
      "[0.30516536 0.2456048  0.09653941 0.04462171 0.02640237 0.01987551\n",
      " 0.01842039 0.01475463 0.01414272 0.01354737 0.0124781  0.01121955\n",
      " 0.01086073 0.00971639 0.00848699 0.00800505 0.00715335 0.00680103\n",
      " 0.00578201 0.00484285 0.00412508 0.00342057 0.00253415 0.00245203\n",
      " 0.00238893 0.00235308 0.00233916 0.00232312 0.00231017 0.00229456\n",
      " 0.00225984 0.00222639 0.00221539 0.00210934 0.00210201 0.00203367\n",
      " 0.00201258 0.00197145 0.00189151 0.00183745 0.00179943 0.00175981\n",
      " 0.00171535 0.0016925  0.00167379 0.00162896 0.00161028 0.00158567\n",
      " 0.00153135 0.00149566]\n",
      "(900, 50)\n"
     ]
    }
   ],
   "source": [
    "# PCA over all the frames - flattened\n",
    "\n",
    "# importing all the data, getting all the frames\n",
    "\n",
    "TRAINING_DATA_PATH = \"../data/training_data/\"\n",
    "files = sorted(glob.glob(TRAINING_DATA_PATH + \"mixed_samples/*.npy\"))\n",
    "\n",
    "heart_samples = []\n",
    "\n",
    "for f in files:\n",
    "    data = np.load(f)\n",
    "    heart_samples.append(data)\n",
    "heart_samples = np.array(heart_samples)\n",
    " \n",
    "print(heart_samples.shape)\n",
    "\n",
    "heart_xyz = heart_samples[..., :3]\n",
    "X = heart_xyz.reshape(len(heart_xyz), -1)\n",
    "print(X.shape)\n",
    "\n",
    "pca = PCA(n_components = 50)\n",
    "X_pca = pca.fit_transform(X)\n",
    "print(pca.explained_variance_ratio_)\n",
    "print(X_pca.shape)"
   ]
  }
 ],
 "metadata": {
  "kernelspec": {
   "display_name": "myocardinal_env",
   "language": "python",
   "name": "python3"
  },
  "language_info": {
   "codemirror_mode": {
    "name": "ipython",
    "version": 3
   },
   "file_extension": ".py",
   "mimetype": "text/x-python",
   "name": "python",
   "nbconvert_exporter": "python",
   "pygments_lexer": "ipython3",
   "version": "3.11.13"
  }
 },
 "nbformat": 4,
 "nbformat_minor": 5
}
